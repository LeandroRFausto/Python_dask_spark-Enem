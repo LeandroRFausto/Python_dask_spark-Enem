{
 "cells": [
  {
   "cell_type": "code",
   "execution_count": 4,
   "id": "d1176a4c-7680-4097-b463-b53dfc3ee6d3",
   "metadata": {},
   "outputs": [],
   "source": [
    "from pyspark.sql import SparkSession"
   ]
  },
  {
   "cell_type": "code",
   "execution_count": 5,
   "id": "747f6db4-b9d4-4190-8485-1d6d1c96e12f",
   "metadata": {},
   "outputs": [],
   "source": [
    "spark = SparkSession.builder.appName(\"ENEMTeste\").getOrCreate()"
   ]
  },
  {
   "cell_type": "code",
   "execution_count": 6,
   "id": "c13dedb4-7abe-4544-855a-a3c590aeed11",
   "metadata": {},
   "outputs": [],
   "source": [
    "file_path = \"enem2019/DADOS/MICRODADOS_ENEM_2019.csv\""
   ]
  },
  {
   "cell_type": "code",
   "execution_count": 7,
   "id": "f110d4b8-8b9e-4832-a152-dfa2baeaf2c1",
   "metadata": {},
   "outputs": [],
   "source": [
    "# Leitura dos dados com Spark\n",
    "enem = (\n",
    "    spark\n",
    "    .read\n",
    "    .format(\"csv\")\n",
    "    .options(header=True, delimiter=\";\", encoding=\"latin1\", inferSchema=True)\n",
    "    .load(file_path)\n",
    ")"
   ]
  },
  {
   "cell_type": "code",
   "execution_count": 8,
   "id": "cfd8f0e9-e030-465d-8b14-4ab469f87f4e",
   "metadata": {},
   "outputs": [
    {
     "data": {
      "text/plain": [
       "5095270"
      ]
     },
     "execution_count": 8,
     "metadata": {},
     "output_type": "execute_result"
    }
   ],
   "source": [
    "enem.count()"
   ]
  },
  {
   "cell_type": "markdown",
   "id": "94da26a9-0303-463e-85e7-739c6ae9a143",
   "metadata": {},
   "source": [
    "## Calcular a média de idade e a média da nota em matemática por sexo e estado de RJ e SP"
   ]
  },
  {
   "cell_type": "code",
   "execution_count": 9,
   "id": "635b81a3-5af3-4b27-abca-5f86cd45266b",
   "metadata": {},
   "outputs": [],
   "source": [
    "from pyspark.sql.functions import count, col, lit, mean"
   ]
  },
  {
   "cell_type": "code",
   "execution_count": 10,
   "id": "b9f1dc46-ff59-40f4-bd5f-d90eac238bdb",
   "metadata": {},
   "outputs": [],
   "source": [
    "# Utilizando a API Dataframe\n",
    "consulta = (\n",
    "    enem\n",
    "    .where(col(\"SG_UF_RESIDENCIA\").isin([\"RJ\", \"SP\"]))\n",
    "    .groupBy(\"TP_SEXO\", \"SG_UF_RESIDENCIA\")\n",
    "    .agg(\n",
    "        mean(col(\"NU_IDADE\")).alias(\"med_idade\"),\n",
    "        mean(col(\"NU_NOTA_MT\")).alias(\"med_nota_mt\")\n",
    "    )\n",
    ")"
   ]
  },
  {
   "cell_type": "code",
   "execution_count": 12,
   "id": "0c4fdb41-18b5-40d5-90f7-2e0b3c0aa8fc",
   "metadata": {},
   "outputs": [
    {
     "name": "stdout",
     "output_type": "stream",
     "text": [
      "+-------+----------------+------------------+-----------------+\n",
      "|TP_SEXO|SG_UF_RESIDENCIA|med_idade         |med_nota_mt      |\n",
      "+-------+----------------+------------------+-----------------+\n",
      "|M      |SP              |20.975866306954437|578.2618169116553|\n",
      "|F      |SP              |20.85638000983014 |532.5990530953453|\n",
      "|F      |RJ              |22.613914048378653|520.3744438133432|\n",
      "|M      |RJ              |22.750757959492297|567.9497019079913|\n",
      "+-------+----------------+------------------+-----------------+\n",
      "\n"
     ]
    }
   ],
   "source": [
    "consulta.show(n=10, truncate=False)"
   ]
  },
  {
   "cell_type": "markdown",
   "id": "660067a0-f21f-4037-a809-b59b10dcc176",
   "metadata": {},
   "source": [
    "## Mesmos cálculos utilizando SQL"
   ]
  },
  {
   "cell_type": "code",
   "execution_count": 13,
   "id": "295ebfe5-bbc5-4cb2-82df-d6b90c15cd3b",
   "metadata": {},
   "outputs": [],
   "source": [
    "# Cria uma view da tabela\n",
    "enem.createOrReplaceTempView(\"enem\")"
   ]
  },
  {
   "cell_type": "code",
   "execution_count": 14,
   "id": "9d1f3810-1162-46d6-98cd-a91dd7e10134",
   "metadata": {},
   "outputs": [],
   "source": [
    "# Calcula a média de idade e a média da nota em matemática por sexo e estado Brasileiro para alunos que residem no estado de RJ e SP\n",
    "consulta2 = spark.sql(\"\"\"\n",
    "\n",
    "    SELECT TP_SEXO, SG_UF_RESIDENCIA, AVG(NU_IDADE) as med_idade, AVG(NU_NOTA_MT) as med_nota_mt\n",
    "    FROM enem\n",
    "    WHERE SG_UF_RESIDENCIA IN ('RJ', 'SP')\n",
    "    GROUP BY TP_SEXO, SG_UF_RESIDENCIA\n",
    "\n",
    "\"\"\")"
   ]
  },
  {
   "cell_type": "code",
   "execution_count": 15,
   "id": "5ab6cc2a-28b6-4ba3-b6ef-26be213dd917",
   "metadata": {},
   "outputs": [
    {
     "name": "stdout",
     "output_type": "stream",
     "text": [
      "+-------+----------------+------------------+-----------------+\n",
      "|TP_SEXO|SG_UF_RESIDENCIA|med_idade         |med_nota_mt      |\n",
      "+-------+----------------+------------------+-----------------+\n",
      "|M      |SP              |20.975866306954437|578.2618169116553|\n",
      "|F      |SP              |20.85638000983014 |532.5990530953453|\n",
      "|F      |RJ              |22.613914048378653|520.3744438133432|\n",
      "|M      |RJ              |22.750757959492297|567.9497019079913|\n",
      "+-------+----------------+------------------+-----------------+\n",
      "\n"
     ]
    }
   ],
   "source": [
    "consulta2.show(n=10, truncate=False)"
   ]
  },
  {
   "cell_type": "markdown",
   "id": "f29924ea-7d97-44e1-aa79-184fe8673e20",
   "metadata": {},
   "source": [
    "## Calcula a média de idade, média da nota em matemática, média da nota em CH, desvio padrão da nota em MT, contagem de linhas por grupos de sexo, Estado e Municipio"
   ]
  },
  {
   "cell_type": "code",
   "execution_count": 17,
   "id": "5bbb33fd-0e09-45fe-8276-f5baa217d19c",
   "metadata": {},
   "outputs": [],
   "source": [
    "[16]\n",
    "consulta3 = spark.sql(\"\"\"\n",
    "\n",
    "    SELECT \n",
    "        tp_sexo, sg_uf_residencia, no_municipio_residencia, \n",
    "        avg(nu_idade) as med_idade, avg(nu_nota_mt) as med_nota_mt,\n",
    "        stddev(nu_nota_mt) as std_nota_mt, count(1) as contagem\n",
    "    FROM enem\n",
    "    GROUP BY tp_sexo, sg_uf_residencia, no_municipio_residencia\n",
    "    ORDER BY no_municipio_residencia, tp_sexo, sg_uf_residencia\n",
    "\n",
    "\"\"\")"
   ]
  },
  {
   "cell_type": "code",
   "execution_count": 18,
   "id": "8c48237a-c05d-4049-805f-13eb1efe0831",
   "metadata": {},
   "outputs": [
    {
     "name": "stdout",
     "output_type": "stream",
     "text": [
      "+-------+----------------+-----------------------+------------------+------------------+------------------+--------+\n",
      "|tp_sexo|sg_uf_residencia|no_municipio_residencia|med_idade         |med_nota_mt       |std_nota_mt       |contagem|\n",
      "+-------+----------------+-----------------------+------------------+------------------+------------------+--------+\n",
      "|F      |GO              |Abadia de Goiás        |21.888297872340427|488.4504          |87.53847875040715 |188     |\n",
      "|M      |GO              |Abadia de Goiás        |21.652631578947368|523.3237288135593 |100.18094549877554|95      |\n",
      "|F      |MG              |Abadia dos Dourados    |19.746987951807228|506.6999999999999 |88.47680567729118 |83      |\n",
      "|M      |MG              |Abadia dos Dourados    |20.210526315789473|541.9499999999999 |117.52050339387047|57      |\n",
      "|F      |GO              |Abadiânia              |18.58282208588957 |502.8083333333332 |93.82494097171633 |163     |\n",
      "|M      |GO              |Abadiânia              |19.71794871794872 |555.540243902439  |99.40385498120767 |117     |\n",
      "|F      |PA              |Abaetetuba             |23.382297551789076|462.5399376947041 |71.0658884317491  |4248    |\n",
      "|M      |PA              |Abaetetuba             |22.53633890400311 |495.08506527415136|90.6666527969215  |2573    |\n",
      "|F      |MG              |Abaeté                 |20.910299003322258|539.1174107142856 |106.11698346547841|301     |\n",
      "|M      |MG              |Abaeté                 |21.304123711340207|591.0157142857141 |112.75828625068385|194     |\n",
      "|F      |CE              |Abaiara                |19.773255813953487|470.88275862068963|81.7157465996436  |172     |\n",
      "|M      |CE              |Abaiara                |19.783333333333335|504.7833333333333 |101.07047503447669|120     |\n",
      "|F      |BA              |Abaré                  |20.09907120743034 |447.31176470588235|65.04763744085814 |323     |\n",
      "|M      |BA              |Abaré                  |20.062893081761008|479.3860869565218 |78.55944546262964 |159     |\n",
      "|F      |PR              |Abatiá                 |20.466666666666665|501.94848484848484|115.16683854633494|45      |\n",
      "|M      |PR              |Abatiá                 |20.65625          |536.328           |106.3633102468453 |32      |\n",
      "|F      |BA              |Abaíra                 |20.086206896551722|510.7837209302325 |86.89062070659527 |58      |\n",
      "|M      |BA              |Abaíra                 |20.294117647058822|554.1130434782608 |112.43460848764829|34      |\n",
      "|F      |SC              |Abdon Batista          |20.5              |490.4230769230769 |57.49203066289789 |16      |\n",
      "|M      |SC              |Abdon Batista          |18.833333333333332|612.0             |70.01985432718348 |6       |\n",
      "|F      |PA              |Abel Figueiredo        |20.46808510638298 |448.5641791044776 |62.89341079687445 |94      |\n",
      "|M      |PA              |Abel Figueiredo        |21.149253731343283|473.29787234042544|71.64681032786639 |67      |\n",
      "|F      |SC              |Abelardo Luz           |18.71851851851852 |502.7682352941176 |94.82384069792724 |135     |\n",
      "|M      |SC              |Abelardo Luz           |19.25974025974026 |549.9745098039215 |101.51890039423644|77      |\n",
      "|F      |MG              |Abre Campo             |19.689119170984455|536.9219354838709 |107.28138584804134|193     |\n",
      "|M      |MG              |Abre Campo             |20.228070175438596|576.3404761904761 |110.46747994351875|114     |\n",
      "|F      |PE              |Abreu e Lima           |23.101464435146443|483.9232558139534 |82.56568856289331 |1912    |\n",
      "|M      |PE              |Abreu e Lima           |23.06637168141593 |522.4591959798994 |95.73976729450736 |1356    |\n",
      "|F      |TO              |Abreulândia            |20.416666666666668|442.5733333333334 |48.47652549234035 |24      |\n",
      "|M      |TO              |Abreulândia            |21.318181818181817|490.5736842105263 |80.02683468066104 |22      |\n",
      "|F      |MG              |Acaiaca                |22.571428571428573|474.46511627906966|90.66844330468942 |63      |\n",
      "|M      |MG              |Acaiaca                |21.066666666666666|512.1             |72.2543028871934  |30      |\n",
      "|F      |BA              |Acajutiba              |21.782258064516128|450.14325842696627|67.00501022291084 |248     |\n",
      "|M      |BA              |Acajutiba              |21.025641025641026|493.42643678160925|89.41277867645213 |117     |\n",
      "|F      |CE              |Acarape                |21.642857142857142|482.3180921052632 |81.99557080715695 |392     |\n",
      "|M      |CE              |Acarape                |21.887596899224807|521.3464646464647 |102.65427148659185|258     |\n",
      "|F      |CE              |Acaraú                 |19.485981308411215|499.8581325301205 |85.43174209974056 |856     |\n",
      "|M      |CE              |Acaraú                 |19.855813953488372|518.1121085594989 |103.23938353810092|645     |\n",
      "|F      |RN              |Acari                  |24.07612456747405 |500.13555555555564|89.98165972742217 |289     |\n",
      "|M      |RN              |Acari                  |23.6045197740113  |530.2766666666666 |105.64619020860545|177     |\n",
      "|F      |PA              |Acará                  |22.525285481239806|450.29827213822887|61.82172768795814 |613     |\n",
      "|M      |PA              |Acará                  |22.426621160409557|475.89596412556057|78.36338334007289 |293     |\n",
      "|F      |PI              |Acauã                  |19.014492753623188|484.16551724137935|84.49709338242734 |69      |\n",
      "|M      |PI              |Acauã                  |18.632653061224488|589.8756756756757 |121.97450190147983|49      |\n",
      "|F      |RS              |Aceguá                 |21.583333333333332|459.0259259259259 |75.33838327374696 |36      |\n",
      "|M      |RS              |Aceguá                 |21.3125           |533.0000000000001 |91.81955129491757 |16      |\n",
      "|F      |CE              |Acopiara               |20.229461756373937|483.9493913043478 |85.46647077032878 |706     |\n",
      "|M      |CE              |Acopiara               |19.60348162475822 |518.3053268765135 |106.26644028468637|517     |\n",
      "|F      |MT              |Acorizal               |18.50943396226415 |444.5023809523809 |49.96651311845954 |53      |\n",
      "|M      |MT              |Acorizal               |20.782608695652176|464.77333333333337|73.6310182638724  |46      |\n",
      "|F      |AC              |Acrelândia             |22.90049751243781 |462.0821917808219 |65.45745729222125 |201     |\n",
      "|M      |AC              |Acrelândia             |22.61111111111111 |501.2341463414635 |88.68235202323729 |108     |\n",
      "|F      |GO              |Acreúna                |19.33128834355828 |495.7968253968254 |93.0037030974642  |163     |\n",
      "|M      |GO              |Acreúna                |19.4020618556701  |540.6338461538461 |110.99347852030976|97      |\n",
      "|F      |SP              |Adamantina             |18.392265193370164|564.05            |109.12393730842784|181     |\n",
      "|M      |SP              |Adamantina             |18.554545454545455|614.2173913043478 |107.05573446261496|110     |\n",
      "|F      |GO              |Adelândia              |17.36842105263158 |447.95333333333326|64.4523064717145  |19      |\n",
      "|M      |GO              |Adelândia              |19.09090909090909 |511.0125000000001 |147.44846496803072|11      |\n",
      "|F      |SP              |Adolfo                 |18.533333333333335|514.1066666666667 |61.5360227447151  |30      |\n",
      "|M      |SP              |Adolfo                 |20.46153846153846 |572.14            |75.10208385923788 |13      |\n",
      "|F      |PR              |Adrianópolis           |19.10810810810811 |467.35555555555555|83.81763782317186 |37      |\n",
      "|M      |PR              |Adrianópolis           |21.1              |498.8             |121.09211369862199|20      |\n",
      "|F      |BA              |Adustina               |19.9              |489.83547008547   |83.98126184824542 |290     |\n",
      "|M      |BA              |Adustina               |20.380681818181817|517.8642857142858 |98.91302121395938 |176     |\n",
      "|F      |PE              |Afogados da Ingazeira  |21.037777777777777|515.5753086419753 |96.77330316666263 |450     |\n",
      "|M      |PE              |Afogados da Ingazeira  |20.97230769230769 |544.6333333333332 |106.78548487446322|325     |\n",
      "|F      |RN              |Afonso Bezerra         |22.78343949044586 |457.98189655172416|73.69139245250564 |157     |\n",
      "|M      |RN              |Afonso Bezerra         |24.65909090909091 |508.33854166666674|105.58363646123004|132     |\n",
      "|F      |ES              |Afonso Cláudio         |19.308681672025724|531.6888888888889 |93.8385217429598  |311     |\n",
      "|M      |ES              |Afonso Cláudio         |19.832535885167463|554.9976047904191 |107.48603549091256|209     |\n",
      "|F      |MA              |Afonso Cunha           |19.17391304347826 |450.6242424242424 |66.76942147375094 |46      |\n",
      "|M      |MA              |Afonso Cunha           |19.75             |456.1333333333334 |91.23393191863065 |32      |\n",
      "|F      |PE              |Afrânio                |20.213740458015266|477.1064766839377 |83.51101511929608 |524     |\n",
      "|M      |PE              |Afrânio                |19.68840579710145 |504.76930232558135|92.25392267817654 |276     |\n",
      "|F      |PA              |Afuá                   |20.252525252525253|455.8759259259259 |71.49030000223459 |99      |\n",
      "|M      |PA              |Afuá                   |21.060606060606062|487.4418604651162 |74.22942309892429 |66      |\n",
      "|F      |PE              |Agrestina              |20.479674796747968|492.2885608856089 |85.24301979762082 |369     |\n",
      "|M      |PE              |Agrestina              |20.58874458874459 |537.1497142857143 |89.44347979313027 |231     |\n",
      "|F      |PI              |Agricolândia           |20.1010101010101  |505.01807228915663|81.32133663043523 |99      |\n",
      "|M      |PI              |Agricolândia           |20.58490566037736 |521.3212765957446 |86.10140113027049 |53      |\n",
      "|F      |SC              |Agrolândia             |18.618181818181817|516.2170731707317 |91.55402203737155 |55      |\n",
      "|M      |SC              |Agrolândia             |20.166666666666668|531.34375         |89.80889316580327 |24      |\n",
      "|F      |SC              |Agronômica             |20.03030303030303 |530.9863636363635 |85.01395009030405 |33      |\n",
      "|M      |SC              |Agronômica             |19.823529411764707|521.4666666666667 |110.39896911181906|17      |\n",
      "|F      |MG              |Aguanil                |18.357142857142858|532.6057142857143 |86.21268823929212 |56      |\n",
      "|M      |MG              |Aguanil                |20.147058823529413|581.7071428571428 |81.81813132647687 |34      |\n",
      "|F      |SP              |Aguaí                  |19.25506072874494 |543.4625806451613 |107.60904716731797|247     |\n",
      "|M      |SP              |Aguaí                  |20.324324324324323|579.5752212389381 |108.75751741749482|185     |\n",
      "|F      |RS              |Agudo                  |20.390243902439025|526.5637931034482 |92.11581972103684 |164     |\n",
      "|M      |RS              |Agudo                  |20.19047619047619 |565.7402597402597 |98.78439741991575 |105     |\n",
      "|F      |SP              |Agudos                 |20.38888888888889 |518.3924369747899 |106.90354827854135|342     |\n",
      "|M      |SP              |Agudos                 |20.693693693693692|571.5061728395061 |117.3014832561027 |222     |\n",
      "|F      |PR              |Agudos do Sul          |19.24137931034483 |516.9526315789474 |86.99686150549651 |58      |\n",
      "|M      |PR              |Agudos do Sul          |20.36111111111111 |563.3925925925926 |84.9958095162793  |36      |\n",
      "|F      |PB              |Aguiar                 |20.253521126760564|450.20350877192993|54.73706619869301 |71      |\n",
      "|M      |PB              |Aguiar                 |21.983333333333334|492.1585365853659 |80.952306871422   |60      |\n",
      "|F      |TO              |Aguiarnópolis          |18.853448275862068|450.15319148936175|66.80285986751663 |116     |\n",
      "|M      |TO              |Aguiarnópolis          |20.203125         |468.2459999999999 |71.54972927400685 |64      |\n",
      "|F      |MG              |Aimorés                |20.91286307053942 |508.10749999999996|97.73636374831091 |241     |\n",
      "|M      |MG              |Aimorés                |20.804597701149426|545.5726495726497 |117.2508514960123 |174     |\n",
      "+-------+----------------+-----------------------+------------------+------------------+------------------+--------+\n",
      "only showing top 100 rows\n",
      "\n"
     ]
    }
   ],
   "source": [
    "consulta3.show(100, truncate=False)"
   ]
  },
  {
   "cell_type": "code",
   "execution_count": null,
   "id": "ee985983-e5c2-4c11-8243-6fc708249293",
   "metadata": {},
   "outputs": [],
   "source": []
  }
 ],
 "metadata": {
  "kernelspec": {
   "display_name": "Python 3 (ipykernel)",
   "language": "python",
   "name": "python3"
  },
  "language_info": {
   "codemirror_mode": {
    "name": "ipython",
    "version": 3
   },
   "file_extension": ".py",
   "mimetype": "text/x-python",
   "name": "python",
   "nbconvert_exporter": "python",
   "pygments_lexer": "ipython3",
   "version": "3.9.7"
  }
 },
 "nbformat": 4,
 "nbformat_minor": 5
}
